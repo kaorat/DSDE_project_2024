{
 "cells": [
  {
   "cell_type": "code",
   "execution_count": 2,
   "metadata": {},
   "outputs": [],
   "source": [
    "# import pandas as pd\n",
    "# import json\n",
    "# file_path = r'C:\\Users\\USER\\Desktop\\DSDE_project\\Project\\2018\\201800002'"
   ]
  },
  {
   "cell_type": "code",
<<<<<<< HEAD
   "execution_count": 2,
   "metadata": {},
   "outputs": [],
   "source": [
    "import json\n",
    "import pandas as pd\n",
    "import os"
   ]
  },
  {
   "cell_type": "code",
   "execution_count": 4,
=======
   "execution_count": 3,
>>>>>>> 7ff61df66c1f5f2e628dfe46c18b996aa162206c
   "metadata": {},
   "outputs": [],
   "source": [
    "# for i in range()\n",
    "\n",
    "\n",
    "# # Load JSON data\n",
    "\n",
    "\n",
    "def print_nested_json(file_path_x):\n",
    "    with open(file_path_x, 'r') as file:\n",
    "        data = json.load(file)\n",
    "\n",
    "    abstracts_data = data['abstracts-retrieval-response']\n",
    "    print(\"Title:\",abstracts_data['coredata']['dc:title'])\n",
    "\n",
    "    print(\"Publisher:\",abstracts_data['coredata']['dc:publisher'])\n",
    "\n",
    "    print(\"Publish date:\",abstracts_data['coredata']['prism:coverDate'])\n",
    "  \n",
    "    indexed_names = [author['preferred-name']['ce:indexed-name'] for author in abstracts_data['authors']['author']]\n",
    "    print(\"Authors:\", \", \".join(indexed_names))\n",
    "    key = [key['$'] for key in abstracts_data['authkeywords']['author-keyword']]\n",
    "    print(\"keyword:\",\", \".join(key))\n",
    "    subjects = [subject['@code'] for subject in abstracts_data['subject-areas']['subject-area']]\n",
    "    print(\"Subject:\",\", \".join(subjects))\n"
   ]
  },
  {
   "cell_type": "code",
<<<<<<< HEAD
   "execution_count": 6,
=======
   "execution_count": 4,
>>>>>>> 7ff61df66c1f5f2e628dfe46c18b996aa162206c
   "metadata": {},
   "outputs": [
    {
     "name": "stdout",
     "output_type": "stream",
     "text": [
      "Error processing file C:\\Users\\USER\\Desktop\\DSDE_project\\Project\\2018\\201800000: Expecting property name enclosed in double quotes: line 3391 column 5 (char 180923)\n",
      "Processed 0 files...\n",
      "Processed 100 files...\n",
      "Processed 200 files...\n",
      "Processed 300 files...\n",
      "Processed 400 files...\n",
      "Processed 500 files...\n",
      "Processed 600 files...\n",
      "Processed 700 files...\n",
      "Processed 800 files...\n",
      "Processed 900 files...\n",
      "Processed 1000 files...\n",
      "Processed 1100 files...\n",
      "Processed 1200 files...\n",
      "Processed 1300 files...\n",
      "Processed 1400 files...\n",
      "Processed 1500 files...\n",
      "Processed 1600 files...\n",
      "Processed 1700 files...\n",
      "Processed 1800 files...\n",
      "Processed 1900 files...\n",
      "Processed 2000 files...\n",
      "Processed 2100 files...\n",
      "Processed 2200 files...\n",
      "Processed 2300 files...\n",
      "Processed 2400 files...\n",
      "Processed 2500 files...\n",
      "Processed 2600 files...\n",
      "Processed 2700 files...\n"
     ]
    }
   ],
   "source": [
    "def process_json_to_df(file_path):\n",
    "    try:\n",
    "        # Read JSON file\n",
    "        with open(file_path, 'r') as file:\n",
    "            data = json.load(file)\n",
    "        \n",
    "        abstracts_data = data.get('abstracts-retrieval-response', {})\n",
    "        coredata = abstracts_data.get('coredata', {})\n",
    "        \n",
    "        # Helper function to safely get joined values\n",
    "        def safe_join(data_dict, key_path, subkey=None):\n",
    "            try:\n",
    "                if not data_dict.get(key_path):\n",
    "                    return None\n",
    "                if subkey:\n",
    "                    return \", \".join([item.get(subkey, '') for item in data_dict[key_path]]) or None\n",
    "                return \", \".join(data_dict[key_path]) or None\n",
    "            except Exception:\n",
    "                return None\n",
    "\n",
    "        # Helper function to safely get author names\n",
    "        def get_author_names():\n",
    "            try:\n",
    "                authors = abstracts_data.get('authors', {}).get('author', [])\n",
    "                if not authors:\n",
    "                    return None\n",
    "                names = []\n",
    "                for author in authors:\n",
    "                    preferred_name = author.get('preferred-name', {})\n",
    "                    if preferred_name and 'ce:indexed-name' in preferred_name:\n",
    "                        names.append(preferred_name['ce:indexed-name'])\n",
    "                return \", \".join(names) if names else None\n",
    "            except Exception:\n",
    "                return None\n",
    "\n",
    "        # Helper function to safely get keywords\n",
    "        def get_keywords():\n",
    "            try:\n",
    "                keywords = abstracts_data.get('authkeywords', {}).get('author-keyword', [])\n",
    "                if not keywords:\n",
    "                    return None\n",
    "                keyword_list = [key.get('$', '') for key in keywords]\n",
    "                return \", \".join(keyword_list) if any(keyword_list) else None\n",
    "            except Exception:\n",
    "                return None\n",
    "\n",
    "        # Helper function to safely get subjects\n",
    "        def get_subjects():\n",
    "            try:\n",
    "                subjects = abstracts_data.get('subject-areas', {}).get('subject-area', [])\n",
    "                if not subjects:\n",
    "                    return None\n",
    "                subject_list = [subject.get('@code', '') for subject in subjects]\n",
    "                return \", \".join(subject_list) if any(subject_list) else None\n",
    "            except Exception:\n",
    "                return None\n",
    "        \n",
    "        # Create a dictionary with the data\n",
    "        paper_data = {\n",
    "            'Title': coredata.get('dc:title') or None,\n",
    "            'Publisher': coredata.get('dc:publisher') or None,\n",
    "            'Publish_date': coredata.get('prism:coverDate') or None,\n",
    "            'Authors': get_author_names(),\n",
    "            'Keywords': get_keywords(),\n",
    "            'Subjects': get_subjects()\n",
    "        }\n",
    "        \n",
    "        return paper_data\n",
    "    \n",
    "    except Exception as e:\n",
    "        print(f\"Error processing file {file_path}: {str(e)}\")\n",
    "        # Return empty dictionary with None values\n",
    "        return {\n",
    "            'Title': None,\n",
    "            'Publisher': None,\n",
    "            'Publish_date': None,\n",
    "            'Authors': None,\n",
    "            'Keywords': None,\n",
    "            'Subjects': None\n",
    "        }\n",
    "\n",
    "# Rest of your code remains the same\n",
    "base_path = r'C:\\Users\\USER\\Desktop\\DSDE_project\\Project\\2018\\2018'\n",
    "all_data = []\n",
    "for i in range(2792):\n",
    "    file_number = str(i).zfill(5)\n",
    "    file_path = base_path + file_number\n",
    "    \n",
    "    if os.path.exists(file_path):\n",
    "        paper_data = process_json_to_df(file_path)\n",
    "        all_data.append(paper_data)\n",
    "    \n",
    "    if i % 100 == 0:\n",
    "        print(f\"Processed {i} files...\")\n",
    "\n",
    "df = pd.DataFrame(all_data)"
   ]
  },
  {
   "cell_type": "code",
<<<<<<< HEAD
   "execution_count": 7,
=======
   "execution_count": 5,
>>>>>>> 7ff61df66c1f5f2e628dfe46c18b996aa162206c
   "metadata": {},
   "outputs": [
    {
     "data": {
      "text/html": [
       "<div>\n",
       "<style scoped>\n",
       "    .dataframe tbody tr th:only-of-type {\n",
       "        vertical-align: middle;\n",
       "    }\n",
       "\n",
       "    .dataframe tbody tr th {\n",
       "        vertical-align: top;\n",
       "    }\n",
       "\n",
       "    .dataframe thead th {\n",
       "        text-align: right;\n",
       "    }\n",
       "</style>\n",
       "<table border=\"1\" class=\"dataframe\">\n",
       "  <thead>\n",
       "    <tr style=\"text-align: right;\">\n",
       "      <th></th>\n",
       "    </tr>\n",
       "  </thead>\n",
       "  <tbody>\n",
<<<<<<< HEAD
=======
       "    <tr>\n",
       "      <th>0</th>\n",
       "      <td>None</td>\n",
       "      <td>None</td>\n",
       "      <td>None</td>\n",
       "      <td>None</td>\n",
       "      <td>None</td>\n",
       "      <td>None</td>\n",
       "    </tr>\n",
       "    <tr>\n",
       "      <th>1</th>\n",
       "      <td>Flexible Printed Active Antenna for Digital Te...</td>\n",
       "      <td>Institute of Electrical and Electronics Engine...</td>\n",
       "      <td>2018-12-31</td>\n",
       "      <td>Pratumsiri T., Janpugdee P.</td>\n",
       "      <td>None</td>\n",
       "      <td>2208, 2504</td>\n",
       "    </tr>\n",
       "    <tr>\n",
       "      <th>2</th>\n",
       "      <td>Parametric study of hydrogen production via so...</td>\n",
       "      <td>Elsevier Ltd</td>\n",
       "      <td>2018-12-31</td>\n",
       "      <td>Phuakpunk K., Chalermsinsuwan B., Putivisutisa...</td>\n",
       "      <td>Circulating fluidized bed, Computational fluid...</td>\n",
       "      <td>1600, 1500, 2209</td>\n",
       "    </tr>\n",
       "    <tr>\n",
       "      <th>3</th>\n",
       "      <td>Superhydrophobic coating from fluoroalkylsilan...</td>\n",
       "      <td>Elsevier B.V.</td>\n",
       "      <td>2018-12-31</td>\n",
       "      <td>Saengkaew J., Le D., Samart C., Sawada H., Nis...</td>\n",
       "      <td>Encapsulation, Fluoroalkylsilane, Natural rubb...</td>\n",
       "      <td>1600, 3104, 3100, 3110, 2508</td>\n",
       "    </tr>\n",
       "    <tr>\n",
       "      <th>4</th>\n",
       "      <td>Electrochemical impedance-based DNA sensor usi...</td>\n",
       "      <td>Elsevier B.V.</td>\n",
       "      <td>2018-12-31</td>\n",
       "      <td>Teengam P., Siangproh W., Tuantranont A., Vila...</td>\n",
       "      <td>acpcPNA, Electrochemical impedance spectroscop...</td>\n",
       "      <td>1602, 1303, 2304, 1607</td>\n",
       "    </tr>\n",
       "    <tr>\n",
       "      <th>...</th>\n",
       "      <td>...</td>\n",
       "      <td>...</td>\n",
       "      <td>...</td>\n",
       "      <td>...</td>\n",
       "      <td>...</td>\n",
       "      <td>...</td>\n",
       "    </tr>\n",
       "    <tr>\n",
       "      <th>2787</th>\n",
       "      <td>Association between leukocyte telomere length ...</td>\n",
       "      <td>Blackwell Publishing</td>\n",
       "      <td>2018-01-01</td>\n",
       "      <td>Poonpet T., Saetan N., Tanavalee A., Wilairata...</td>\n",
       "      <td>angiogenesis, cytokines, osteoarthritis, real-...</td>\n",
       "      <td>2745</td>\n",
       "    </tr>\n",
       "    <tr>\n",
       "      <th>2788</th>\n",
       "      <td>Anaerobic co-digestion of hydrolysate from alk...</td>\n",
       "      <td>Springer Tokyoorders@springer.jp</td>\n",
       "      <td>2018-01-01</td>\n",
       "      <td>Chavalparit O., Sasananan S., Kullavanijaya P....</td>\n",
       "      <td>Alkali pre-treatment, Anaerobic digestion, Bio...</td>\n",
       "      <td>2311, 2211</td>\n",
       "    </tr>\n",
       "    <tr>\n",
       "      <th>2789</th>\n",
       "      <td>Bullying at work: Cognitive appraisal of negat...</td>\n",
       "      <td>American Psychological Association Inc.journal...</td>\n",
       "      <td>2018-01-01</td>\n",
       "      <td>Hewett R., Liefooghe A., Visockaite G., Roongr...</td>\n",
       "      <td>Bullying, Cognitive appraisal theory, Coping</td>\n",
       "      <td>3202, 2739</td>\n",
       "    </tr>\n",
       "    <tr>\n",
       "      <th>2790</th>\n",
       "      <td>Three-dimensional interaction diagram for the ...</td>\n",
       "      <td>Taylor and Francis Ltd.michael.wagreich@univie...</td>\n",
       "      <td>2018-01-01</td>\n",
       "      <td>Keawsawasvong S., Ukritchon B.</td>\n",
       "      <td>Finite element, General loading, Numerical ana...</td>\n",
       "      <td>2305, 1909, 1111</td>\n",
       "    </tr>\n",
       "    <tr>\n",
       "      <th>2791</th>\n",
       "      <td>Changing patterns of civil-military relations ...</td>\n",
       "      <td>Taylor and Francis</td>\n",
       "      <td>2018-01-01</td>\n",
       "      <td>Bamrungsuk S.</td>\n",
       "      <td>None</td>\n",
       "      <td>3300</td>\n",
       "    </tr>\n",
>>>>>>> 7ff61df66c1f5f2e628dfe46c18b996aa162206c
       "  </tbody>\n",
       "</table>\n",
       "</div>"
      ],
      "text/plain": [
<<<<<<< HEAD
       "Empty DataFrame\n",
       "Columns: []\n",
       "Index: []"
      ]
     },
     "execution_count": 7,
=======
       "                                                  Title  \\\n",
       "0                                                  None   \n",
       "1     Flexible Printed Active Antenna for Digital Te...   \n",
       "2     Parametric study of hydrogen production via so...   \n",
       "3     Superhydrophobic coating from fluoroalkylsilan...   \n",
       "4     Electrochemical impedance-based DNA sensor usi...   \n",
       "...                                                 ...   \n",
       "2787  Association between leukocyte telomere length ...   \n",
       "2788  Anaerobic co-digestion of hydrolysate from alk...   \n",
       "2789  Bullying at work: Cognitive appraisal of negat...   \n",
       "2790  Three-dimensional interaction diagram for the ...   \n",
       "2791  Changing patterns of civil-military relations ...   \n",
       "\n",
       "                                              Publisher Publish_date  \\\n",
       "0                                                  None         None   \n",
       "1     Institute of Electrical and Electronics Engine...   2018-12-31   \n",
       "2                                          Elsevier Ltd   2018-12-31   \n",
       "3                                         Elsevier B.V.   2018-12-31   \n",
       "4                                         Elsevier B.V.   2018-12-31   \n",
       "...                                                 ...          ...   \n",
       "2787                               Blackwell Publishing   2018-01-01   \n",
       "2788                   Springer Tokyoorders@springer.jp   2018-01-01   \n",
       "2789  American Psychological Association Inc.journal...   2018-01-01   \n",
       "2790  Taylor and Francis Ltd.michael.wagreich@univie...   2018-01-01   \n",
       "2791                                 Taylor and Francis   2018-01-01   \n",
       "\n",
       "                                                Authors  \\\n",
       "0                                                  None   \n",
       "1                           Pratumsiri T., Janpugdee P.   \n",
       "2     Phuakpunk K., Chalermsinsuwan B., Putivisutisa...   \n",
       "3     Saengkaew J., Le D., Samart C., Sawada H., Nis...   \n",
       "4     Teengam P., Siangproh W., Tuantranont A., Vila...   \n",
       "...                                                 ...   \n",
       "2787  Poonpet T., Saetan N., Tanavalee A., Wilairata...   \n",
       "2788  Chavalparit O., Sasananan S., Kullavanijaya P....   \n",
       "2789  Hewett R., Liefooghe A., Visockaite G., Roongr...   \n",
       "2790                     Keawsawasvong S., Ukritchon B.   \n",
       "2791                                      Bamrungsuk S.   \n",
       "\n",
       "                                               Keywords  \\\n",
       "0                                                  None   \n",
       "1                                                  None   \n",
       "2     Circulating fluidized bed, Computational fluid...   \n",
       "3     Encapsulation, Fluoroalkylsilane, Natural rubb...   \n",
       "4     acpcPNA, Electrochemical impedance spectroscop...   \n",
       "...                                                 ...   \n",
       "2787  angiogenesis, cytokines, osteoarthritis, real-...   \n",
       "2788  Alkali pre-treatment, Anaerobic digestion, Bio...   \n",
       "2789       Bullying, Cognitive appraisal theory, Coping   \n",
       "2790  Finite element, General loading, Numerical ana...   \n",
       "2791                                               None   \n",
       "\n",
       "                          Subjects  \n",
       "0                             None  \n",
       "1                       2208, 2504  \n",
       "2                 1600, 1500, 2209  \n",
       "3     1600, 3104, 3100, 3110, 2508  \n",
       "4           1602, 1303, 2304, 1607  \n",
       "...                            ...  \n",
       "2787                          2745  \n",
       "2788                    2311, 2211  \n",
       "2789                    3202, 2739  \n",
       "2790              2305, 1909, 1111  \n",
       "2791                          3300  \n",
       "\n",
       "[2792 rows x 6 columns]"
      ]
     },
     "execution_count": 5,
>>>>>>> 7ff61df66c1f5f2e628dfe46c18b996aa162206c
     "metadata": {},
     "output_type": "execute_result"
    }
   ],
   "source": [
    "df"
   ]
  },
  {
   "cell_type": "code",
<<<<<<< HEAD
   "execution_count": 1,
   "metadata": {},
   "outputs": [
    {
     "ename": "NameError",
     "evalue": "name 'df' is not defined",
     "output_type": "error",
     "traceback": [
      "\u001b[1;31m---------------------------------------------------------------------------\u001b[0m",
      "\u001b[1;31mNameError\u001b[0m                                 Traceback (most recent call last)",
      "Cell \u001b[1;32mIn[1], line 1\u001b[0m\n\u001b[1;32m----> 1\u001b[0m \u001b[43mdf\u001b[49m\u001b[38;5;241m.\u001b[39misnull()\u001b[38;5;241m.\u001b[39msum()\n",
      "\u001b[1;31mNameError\u001b[0m: name 'df' is not defined"
     ]
=======
   "execution_count": 6,
   "metadata": {},
   "outputs": [
    {
     "data": {
      "text/plain": [
       "Title             1\n",
       "Publisher         9\n",
       "Publish_date      1\n",
       "Authors           1\n",
       "Keywords        560\n",
       "Subjects          1\n",
       "dtype: int64"
      ]
     },
     "execution_count": 6,
     "metadata": {},
     "output_type": "execute_result"
>>>>>>> 7ff61df66c1f5f2e628dfe46c18b996aa162206c
    }
   ],
   "source": [
    "df.isnull().sum()"
   ]
  },
  {
   "cell_type": "code",
<<<<<<< HEAD
   "execution_count": 3,
=======
   "execution_count": 7,
>>>>>>> 7ff61df66c1f5f2e628dfe46c18b996aa162206c
   "metadata": {},
   "outputs": [
    {
     "ename": "NameError",
     "evalue": "name 'df' is not defined",
     "output_type": "error",
     "traceback": [
      "\u001b[1;31m---------------------------------------------------------------------------\u001b[0m",
      "\u001b[1;31mNameError\u001b[0m                                 Traceback (most recent call last)",
      "Cell \u001b[1;32mIn[3], line 1\u001b[0m\n\u001b[1;32m----> 1\u001b[0m \u001b[43mdf\u001b[49m\u001b[38;5;241m.\u001b[39mto_csv(\u001b[38;5;124m\"\u001b[39m\u001b[38;5;124m2018_data.csv\u001b[39m\u001b[38;5;124m\"\u001b[39m,index\u001b[38;5;241m=\u001b[39m\u001b[38;5;28;01mFalse\u001b[39;00m)\n",
      "\u001b[1;31mNameError\u001b[0m: name 'df' is not defined"
     ]
    }
   ],
   "source": [
    "df.to_csv(\"2018_data.csv\",index=False)"
   ]
  },
  {
   "cell_type": "code",
   "execution_count": 1,
   "metadata": {},
   "outputs": [
    {
     "ename": "Scopus401Error",
     "evalue": "Institution Token is not associated with API Key",
     "output_type": "error",
     "traceback": [
      "\u001b[1;31m---------------------------------------------------------------------------\u001b[0m",
      "\u001b[1;31mScopus401Error\u001b[0m                            Traceback (most recent call last)",
      "Cell \u001b[1;32mIn[1], line 7\u001b[0m\n\u001b[0;32m      4\u001b[0m pybliometrics\u001b[38;5;241m.\u001b[39mscopus\u001b[38;5;241m.\u001b[39minit()\n\u001b[0;32m      6\u001b[0m \u001b[38;5;28;01mfrom\u001b[39;00m \u001b[38;5;21;01mpybliometrics\u001b[39;00m\u001b[38;5;21;01m.\u001b[39;00m\u001b[38;5;21;01mscopus\u001b[39;00m \u001b[38;5;28;01mimport\u001b[39;00m AbstractRetrieval\n\u001b[1;32m----> 7\u001b[0m x \u001b[38;5;241m=\u001b[39m \u001b[43mAbstractRetrieval\u001b[49m\u001b[43m(\u001b[49m\u001b[38;5;124;43m'\u001b[39;49m\u001b[38;5;124;43m10.1007/978-3-319-98485-8_15\u001b[39;49m\u001b[38;5;124;43m'\u001b[39;49m\u001b[43m)\u001b[49m\n\u001b[0;32m      8\u001b[0m \u001b[38;5;28mprint\u001b[39m(x\u001b[38;5;241m.\u001b[39mtitle)\n\u001b[0;32m      9\u001b[0m \u001b[38;5;66;03m# api_url = \"https://api.elsevier.com/content/search/scopus\"\u001b[39;00m\n\u001b[0;32m     10\u001b[0m \u001b[38;5;66;03m# api_key = \"faa5274eb341aee1f3c7877160d899de\"\u001b[39;00m\n\u001b[0;32m     11\u001b[0m \u001b[38;5;66;03m# token = \"2a99851e7ea868948a570d488a0ab64b\"\u001b[39;00m\n\u001b[1;32m   (...)\u001b[0m\n\u001b[0;32m     22\u001b[0m \u001b[38;5;66;03m# else:\u001b[39;00m\n\u001b[0;32m     23\u001b[0m \u001b[38;5;66;03m#     print(f\"Error: {response.status_code} - {response.text}\")\u001b[39;00m\n",
      "File \u001b[1;32mc:\\Users\\USER\\miniconda3\\envs\\env_chula_datasci\\Lib\\site-packages\\pybliometrics\\scopus\\abstract_retrieval.py:736\u001b[0m, in \u001b[0;36mAbstractRetrieval.__init__\u001b[1;34m(self, identifier, refresh, view, id_type, **kwds)\u001b[0m\n\u001b[0;32m    734\u001b[0m \u001b[38;5;28mself\u001b[39m\u001b[38;5;241m.\u001b[39m_view \u001b[38;5;241m=\u001b[39m view\n\u001b[0;32m    735\u001b[0m \u001b[38;5;28mself\u001b[39m\u001b[38;5;241m.\u001b[39m_refresh \u001b[38;5;241m=\u001b[39m refresh\n\u001b[1;32m--> 736\u001b[0m \u001b[43mRetrieval\u001b[49m\u001b[38;5;241;43m.\u001b[39;49m\u001b[38;5;21;43m__init__\u001b[39;49m\u001b[43m(\u001b[49m\u001b[38;5;28;43mself\u001b[39;49m\u001b[43m,\u001b[49m\u001b[43m \u001b[49m\u001b[43midentifier\u001b[49m\u001b[38;5;241;43m=\u001b[39;49m\u001b[43midentifier\u001b[49m\u001b[43m,\u001b[49m\u001b[43m \u001b[49m\u001b[43mid_type\u001b[49m\u001b[38;5;241;43m=\u001b[39;49m\u001b[43mid_type\u001b[49m\u001b[43m,\u001b[49m\n\u001b[0;32m    737\u001b[0m \u001b[43m                   \u001b[49m\u001b[43mapi\u001b[49m\u001b[38;5;241;43m=\u001b[39;49m\u001b[38;5;124;43m'\u001b[39;49m\u001b[38;5;124;43mAbstractRetrieval\u001b[39;49m\u001b[38;5;124;43m'\u001b[39;49m\u001b[43m,\u001b[49m\u001b[43m \u001b[49m\u001b[38;5;241;43m*\u001b[39;49m\u001b[38;5;241;43m*\u001b[39;49m\u001b[43mkwds\u001b[49m\u001b[43m)\u001b[49m\n\u001b[0;32m    738\u001b[0m \u001b[38;5;28;01mif\u001b[39;00m \u001b[38;5;28mself\u001b[39m\u001b[38;5;241m.\u001b[39m_view \u001b[38;5;129;01min\u001b[39;00m (\u001b[38;5;124m'\u001b[39m\u001b[38;5;124mMETA\u001b[39m\u001b[38;5;124m'\u001b[39m, \u001b[38;5;124m'\u001b[39m\u001b[38;5;124mMETA_ABS\u001b[39m\u001b[38;5;124m'\u001b[39m, \u001b[38;5;124m'\u001b[39m\u001b[38;5;124mREF\u001b[39m\u001b[38;5;124m'\u001b[39m, \u001b[38;5;124m'\u001b[39m\u001b[38;5;124mFULL\u001b[39m\u001b[38;5;124m'\u001b[39m):\n\u001b[0;32m    739\u001b[0m     \u001b[38;5;28mself\u001b[39m\u001b[38;5;241m.\u001b[39m_json \u001b[38;5;241m=\u001b[39m \u001b[38;5;28mself\u001b[39m\u001b[38;5;241m.\u001b[39m_json[\u001b[38;5;124m'\u001b[39m\u001b[38;5;124mabstracts-retrieval-response\u001b[39m\u001b[38;5;124m'\u001b[39m]\n",
      "File \u001b[1;32mc:\\Users\\USER\\miniconda3\\envs\\env_chula_datasci\\Lib\\site-packages\\pybliometrics\\scopus\\superclasses\\retrieval.py:54\u001b[0m, in \u001b[0;36mRetrieval.__init__\u001b[1;34m(self, identifier, api, id_type, **kwds)\u001b[0m\n\u001b[0;32m     52\u001b[0m \u001b[38;5;66;03m# Parse file contents\u001b[39;00m\n\u001b[0;32m     53\u001b[0m params \u001b[38;5;241m=\u001b[39m {\u001b[38;5;124m'\u001b[39m\u001b[38;5;124mview\u001b[39m\u001b[38;5;124m'\u001b[39m: \u001b[38;5;28mself\u001b[39m\u001b[38;5;241m.\u001b[39m_view, \u001b[38;5;241m*\u001b[39m\u001b[38;5;241m*\u001b[39mkwds}\n\u001b[1;32m---> 54\u001b[0m \u001b[43mBase\u001b[49m\u001b[38;5;241;43m.\u001b[39;49m\u001b[38;5;21;43m__init__\u001b[39;49m\u001b[43m(\u001b[49m\u001b[38;5;28;43mself\u001b[39;49m\u001b[43m,\u001b[49m\u001b[43m \u001b[49m\u001b[43mparams\u001b[49m\u001b[38;5;241;43m=\u001b[39;49m\u001b[43mparams\u001b[49m\u001b[43m,\u001b[49m\u001b[43m \u001b[49m\u001b[43murl\u001b[49m\u001b[38;5;241;43m=\u001b[39;49m\u001b[43murl\u001b[49m\u001b[43m,\u001b[49m\u001b[43m \u001b[49m\u001b[43mapi\u001b[49m\u001b[38;5;241;43m=\u001b[39;49m\u001b[43mapi\u001b[49m\u001b[43m)\u001b[49m\n",
      "File \u001b[1;32mc:\\Users\\USER\\miniconda3\\envs\\env_chula_datasci\\Lib\\site-packages\\pybliometrics\\scopus\\superclasses\\base.py:66\u001b[0m, in \u001b[0;36mBase.__init__\u001b[1;34m(self, params, url, api, download, verbose, *args, **kwds)\u001b[0m\n\u001b[0;32m     64\u001b[0m         \u001b[38;5;28mself\u001b[39m\u001b[38;5;241m.\u001b[39m_json \u001b[38;5;241m=\u001b[39m loads(fname\u001b[38;5;241m.\u001b[39mread_text())\n\u001b[0;32m     65\u001b[0m \u001b[38;5;28;01melse\u001b[39;00m:\n\u001b[1;32m---> 66\u001b[0m     resp \u001b[38;5;241m=\u001b[39m \u001b[43mget_content\u001b[49m\u001b[43m(\u001b[49m\u001b[43murl\u001b[49m\u001b[43m,\u001b[49m\u001b[43m \u001b[49m\u001b[43mapi\u001b[49m\u001b[43m,\u001b[49m\u001b[43m \u001b[49m\u001b[43mparams\u001b[49m\u001b[43m,\u001b[49m\u001b[43m \u001b[49m\u001b[38;5;241;43m*\u001b[39;49m\u001b[43margs\u001b[49m\u001b[43m,\u001b[49m\u001b[43m \u001b[49m\u001b[38;5;241;43m*\u001b[39;49m\u001b[38;5;241;43m*\u001b[39;49m\u001b[43mkwds\u001b[49m\u001b[43m)\u001b[49m\n\u001b[0;32m     67\u001b[0m     header \u001b[38;5;241m=\u001b[39m resp\u001b[38;5;241m.\u001b[39mheaders\n\u001b[0;32m     69\u001b[0m     \u001b[38;5;28;01mif\u001b[39;00m ab_ref_retrieval:\n",
      "File \u001b[1;32mc:\\Users\\USER\\miniconda3\\envs\\env_chula_datasci\\Lib\\site-packages\\pybliometrics\\scopus\\utils\\get_content.py:125\u001b[0m, in \u001b[0;36mget_content\u001b[1;34m(url, api, params, **kwds)\u001b[0m\n\u001b[0;32m    123\u001b[0m         \u001b[38;5;28;01mexcept\u001b[39;00m:\n\u001b[0;32m    124\u001b[0m             reason \u001b[38;5;241m=\u001b[39m \u001b[38;5;124m\"\u001b[39m\u001b[38;5;124m\"\u001b[39m\n\u001b[1;32m--> 125\u001b[0m     \u001b[38;5;28;01mraise\u001b[39;00m errors[resp\u001b[38;5;241m.\u001b[39mstatus_code](reason)\n\u001b[0;32m    126\u001b[0m \u001b[38;5;28;01mexcept\u001b[39;00m \u001b[38;5;167;01mKeyError\u001b[39;00m:\n\u001b[0;32m    127\u001b[0m     resp\u001b[38;5;241m.\u001b[39mraise_for_status()\n",
      "\u001b[1;31mScopus401Error\u001b[0m: Institution Token is not associated with API Key"
     ]
    }
   ],
   "source": [
    "import requests\n",
    "import pybliometrics\n",
    "\n",
    "pybliometrics.scopus.init()\n",
    "\n",
    "from pybliometrics.scopus import AbstractRetrieval\n",
    "x = AbstractRetrieval('10.1007/978-3-319-98485-8_15')\n",
    "print(x.title)\n",
    "# api_url = \"https://api.elsevier.com/content/search/scopus\"\n",
    "# api_key = \"faa5274eb341aee1f3c7877160d899de\"\n",
    "# token = \"2a99851e7ea868948a570d488a0ab64b\"\n",
    "# headers = {\n",
    "#     \"X-ELS-APIKey\": api_key,\n",
    "#     \"X-ELS-Insttoken\": token,\n",
    "#     \"Accept\": \"application/json\"\n",
    "# }\n",
    "\n",
    "# response = requests.get(api_url, headers=headers)\n",
    "# if response.status_code == 200:\n",
    "#     data = response.json()\n",
    "#     print(data)\n",
    "# else:\n",
    "#     print(f\"Error: {response.status_code} - {response.text}\")\n"
   ]
  },
  {
   "cell_type": "code",
   "execution_count": 3,
   "metadata": {},
   "outputs": [
    {
     "ename": "HTTPError",
     "evalue": "HTTP 400 Error from https://api.elsevier.com/content/search/author?query=Ada+Lovelace\nand using headers {'X-ELS-APIKey': 'faa5274eb341aee1f3c7877160d899de', 'User-Agent': 'elsapy-v0.5.1', 'Accept': 'application/json', 'X-ELS-Insttoken': '2a99851e7ea868948a570d488a0ab64b'}:\n{\"service-error\":{\"status\":{\"statusCode\":\"INVALID_INPUT\",\"statusText\":\"Error translating query\"}}}",
     "output_type": "error",
     "traceback": [
      "\u001b[1;31m---------------------------------------------------------------------------\u001b[0m",
      "\u001b[1;31mHTTPError\u001b[0m                                 Traceback (most recent call last)",
      "Cell \u001b[1;32mIn[3], line 18\u001b[0m\n\u001b[0;32m     16\u001b[0m query \u001b[38;5;241m=\u001b[39m \u001b[38;5;124m\"\u001b[39m\u001b[38;5;124mAda Lovelace\u001b[39m\u001b[38;5;124m\"\u001b[39m\n\u001b[0;32m     17\u001b[0m search \u001b[38;5;241m=\u001b[39m ElsSearch(query, \u001b[38;5;124m'\u001b[39m\u001b[38;5;124mauthor\u001b[39m\u001b[38;5;124m'\u001b[39m)\n\u001b[1;32m---> 18\u001b[0m \u001b[43msearch\u001b[49m\u001b[38;5;241;43m.\u001b[39;49m\u001b[43mexecute\u001b[49m\u001b[43m(\u001b[49m\u001b[43mclient\u001b[49m\u001b[43m)\u001b[49m\n\u001b[0;32m     20\u001b[0m \u001b[38;5;66;03m# Step 5: Print the results\u001b[39;00m\n\u001b[0;32m     21\u001b[0m \u001b[38;5;28mprint\u001b[39m(\u001b[38;5;124m\"\u001b[39m\u001b[38;5;124mSearch Results:\u001b[39m\u001b[38;5;124m\"\u001b[39m)\n",
      "File \u001b[1;32mc:\\Users\\USER\\miniconda3\\envs\\env_chula_datasci\\Lib\\site-packages\\elsapy\\elssearch.py:108\u001b[0m, in \u001b[0;36mElsSearch.execute\u001b[1;34m(self, els_client, get_all, use_cursor, view, count, fields)\u001b[0m\n\u001b[0;32m    106\u001b[0m \u001b[38;5;28;01mif\u001b[39;00m view:\n\u001b[0;32m    107\u001b[0m     url \u001b[38;5;241m+\u001b[39m\u001b[38;5;241m=\u001b[39m \u001b[38;5;124m\"\u001b[39m\u001b[38;5;124m&view=\u001b[39m\u001b[38;5;132;01m{}\u001b[39;00m\u001b[38;5;124m\"\u001b[39m\u001b[38;5;241m.\u001b[39mformat(view)\n\u001b[1;32m--> 108\u001b[0m api_response \u001b[38;5;241m=\u001b[39m \u001b[43mels_client\u001b[49m\u001b[38;5;241;43m.\u001b[39;49m\u001b[43mexec_request\u001b[49m\u001b[43m(\u001b[49m\u001b[43murl\u001b[49m\u001b[43m)\u001b[49m\n\u001b[0;32m    109\u001b[0m \u001b[38;5;28mself\u001b[39m\u001b[38;5;241m.\u001b[39m_tot_num_res \u001b[38;5;241m=\u001b[39m \u001b[38;5;28mint\u001b[39m(api_response[\u001b[38;5;124m'\u001b[39m\u001b[38;5;124msearch-results\u001b[39m\u001b[38;5;124m'\u001b[39m][\u001b[38;5;124m'\u001b[39m\u001b[38;5;124mopensearch:totalResults\u001b[39m\u001b[38;5;124m'\u001b[39m])\n\u001b[0;32m    110\u001b[0m \u001b[38;5;28mself\u001b[39m\u001b[38;5;241m.\u001b[39m_results \u001b[38;5;241m=\u001b[39m api_response[\u001b[38;5;124m'\u001b[39m\u001b[38;5;124msearch-results\u001b[39m\u001b[38;5;124m'\u001b[39m][\u001b[38;5;124m'\u001b[39m\u001b[38;5;124mentry\u001b[39m\u001b[38;5;124m'\u001b[39m]\n",
      "File \u001b[1;32mc:\\Users\\USER\\miniconda3\\envs\\env_chula_datasci\\Lib\\site-packages\\elsapy\\elsclient.py:121\u001b[0m, in \u001b[0;36mElsClient.exec_request\u001b[1;34m(self, URL)\u001b[0m\n\u001b[0;32m    119\u001b[0m \u001b[38;5;28;01melse\u001b[39;00m:\n\u001b[0;32m    120\u001b[0m     \u001b[38;5;28mself\u001b[39m\u001b[38;5;241m.\u001b[39m_status_msg\u001b[38;5;241m=\u001b[39m\u001b[38;5;124m\"\u001b[39m\u001b[38;5;124mHTTP \u001b[39m\u001b[38;5;124m\"\u001b[39m \u001b[38;5;241m+\u001b[39m \u001b[38;5;28mstr\u001b[39m(r\u001b[38;5;241m.\u001b[39mstatus_code) \u001b[38;5;241m+\u001b[39m \u001b[38;5;124m\"\u001b[39m\u001b[38;5;124m Error from \u001b[39m\u001b[38;5;124m\"\u001b[39m \u001b[38;5;241m+\u001b[39m URL \u001b[38;5;241m+\u001b[39m \u001b[38;5;124m\"\u001b[39m\u001b[38;5;124m and using headers \u001b[39m\u001b[38;5;124m\"\u001b[39m \u001b[38;5;241m+\u001b[39m \u001b[38;5;28mstr\u001b[39m(headers) \u001b[38;5;241m+\u001b[39m \u001b[38;5;124m\"\u001b[39m\u001b[38;5;124m: \u001b[39m\u001b[38;5;124m\"\u001b[39m \u001b[38;5;241m+\u001b[39m r\u001b[38;5;241m.\u001b[39mtext\n\u001b[1;32m--> 121\u001b[0m     \u001b[38;5;28;01mraise\u001b[39;00m requests\u001b[38;5;241m.\u001b[39mHTTPError(\u001b[38;5;124m\"\u001b[39m\u001b[38;5;124mHTTP \u001b[39m\u001b[38;5;124m\"\u001b[39m \u001b[38;5;241m+\u001b[39m \u001b[38;5;28mstr\u001b[39m(r\u001b[38;5;241m.\u001b[39mstatus_code) \u001b[38;5;241m+\u001b[39m \u001b[38;5;124m\"\u001b[39m\u001b[38;5;124m Error from \u001b[39m\u001b[38;5;124m\"\u001b[39m \u001b[38;5;241m+\u001b[39m URL \u001b[38;5;241m+\u001b[39m \u001b[38;5;124m\"\u001b[39m\u001b[38;5;130;01m\\n\u001b[39;00m\u001b[38;5;124mand using headers \u001b[39m\u001b[38;5;124m\"\u001b[39m \u001b[38;5;241m+\u001b[39m \u001b[38;5;28mstr\u001b[39m(headers) \u001b[38;5;241m+\u001b[39m \u001b[38;5;124m\"\u001b[39m\u001b[38;5;124m:\u001b[39m\u001b[38;5;130;01m\\n\u001b[39;00m\u001b[38;5;124m\"\u001b[39m \u001b[38;5;241m+\u001b[39m r\u001b[38;5;241m.\u001b[39mtext)\n",
      "\u001b[1;31mHTTPError\u001b[0m: HTTP 400 Error from https://api.elsevier.com/content/search/author?query=Ada+Lovelace\nand using headers {'X-ELS-APIKey': 'faa5274eb341aee1f3c7877160d899de', 'User-Agent': 'elsapy-v0.5.1', 'Accept': 'application/json', 'X-ELS-Insttoken': '2a99851e7ea868948a570d488a0ab64b'}:\n{\"service-error\":{\"status\":{\"statusCode\":\"INVALID_INPUT\",\"statusText\":\"Error translating query\"}}}"
     ]
    }
   ],
   "source": [
    "from elsapy.elsclient import ElsClient\n",
    "from elsapy.elssearch import ElsSearch\n",
    "import json\n",
    "\n",
    "# Step 1: Set up your API key and institution token\n",
    "API_KEY = \"faa5274eb341aee1f3c7877160d899de\"  # Replace with your actual Elsevier API key\n",
    "INST_TOKEN = \"2a99851e7ea868948a570d488a0ab64b\"  # Replace with your institution token\n",
    "\n",
    "# Step 2: Initialize the client with the API key\n",
    "client = ElsClient(API_KEY)\n",
    "\n",
    "# Step 3: Add the institution token to the headers\n",
    "client.inst_token = INST_TOKEN  # Use the institution token to authorize requests\n",
    "\n",
    "# Step 4: Test an API call (e.g., search for an author)\n",
    "query = \"Ada Lovelace\"\n",
    "search = ElsSearch(query, 'author')\n",
    "search.execute(client)\n",
    "\n",
    "# Step 5: Print the results\n",
    "print(\"Search Results:\")\n",
    "print(json.dumps(search.results, indent=4))\n",
    "\n",
    "# Step 6: Save the results to a file\n",
    "with open(\"search_results.json\", \"w\") as f:\n",
    "    json.dump(search.results, f, indent=4)\n"
   ]
  },
  {
   "cell_type": "code",
   "execution_count": null,
   "metadata": {},
   "outputs": [
    {
     "ename": "ImportError",
     "evalue": "cannot import name 'config' from 'pybliometrics.scopus.utils' (c:\\Users\\USER\\miniconda3\\envs\\env_chula_datasci\\Lib\\site-packages\\pybliometrics\\scopus\\utils\\__init__.py)",
     "output_type": "error",
     "traceback": [
      "\u001b[1;31m---------------------------------------------------------------------------\u001b[0m",
      "\u001b[1;31mImportError\u001b[0m                               Traceback (most recent call last)",
      "Cell \u001b[1;32mIn[4], line 1\u001b[0m\n\u001b[1;32m----> 1\u001b[0m \u001b[38;5;28;01mfrom\u001b[39;00m \u001b[38;5;21;01mpybliometrics\u001b[39;00m\u001b[38;5;21;01m.\u001b[39;00m\u001b[38;5;21;01mscopus\u001b[39;00m\u001b[38;5;21;01m.\u001b[39;00m\u001b[38;5;21;01mutils\u001b[39;00m \u001b[38;5;28;01mimport\u001b[39;00m config\n\u001b[0;32m      2\u001b[0m config[\u001b[38;5;124m'\u001b[39m\u001b[38;5;124mAuthentication\u001b[39m\u001b[38;5;124m'\u001b[39m] \u001b[38;5;241m=\u001b[39m {\n\u001b[0;32m      3\u001b[0m     \u001b[38;5;124m'\u001b[39m\u001b[38;5;124mAPIKey\u001b[39m\u001b[38;5;124m'\u001b[39m: \u001b[38;5;124m'\u001b[39m\u001b[38;5;124mfaa5274eb341aee1f3c7877160d899de\u001b[39m\u001b[38;5;124m'\u001b[39m,\n\u001b[0;32m      4\u001b[0m     \u001b[38;5;124m'\u001b[39m\u001b[38;5;124mInstToken\u001b[39m\u001b[38;5;124m'\u001b[39m: \u001b[38;5;124m'\u001b[39m\u001b[38;5;124m2a99851e7ea868948a570d488a0ab64b\u001b[39m\u001b[38;5;124m'\u001b[39m,\n\u001b[0;32m      5\u001b[0m }\n\u001b[0;32m      6\u001b[0m \u001b[38;5;28;01mwith\u001b[39;00m \u001b[38;5;28mopen\u001b[39m(config[\u001b[38;5;124m'\u001b[39m\u001b[38;5;124mpath\u001b[39m\u001b[38;5;124m'\u001b[39m], \u001b[38;5;124m'\u001b[39m\u001b[38;5;124mw\u001b[39m\u001b[38;5;124m'\u001b[39m) \u001b[38;5;28;01mas\u001b[39;00m f:\n",
      "\u001b[1;31mImportError\u001b[0m: cannot import name 'config' from 'pybliometrics.scopus.utils' (c:\\Users\\USER\\miniconda3\\envs\\env_chula_datasci\\Lib\\site-packages\\pybliometrics\\scopus\\utils\\__init__.py)"
     ]
    }
   ],
   "source": []
  }
 ],
 "metadata": {
  "kernelspec": {
   "display_name": "env_chula_datasci",
   "language": "python",
   "name": "python3"
  },
  "language_info": {
   "codemirror_mode": {
    "name": "ipython",
    "version": 3
   },
   "file_extension": ".py",
   "mimetype": "text/x-python",
   "name": "python",
   "nbconvert_exporter": "python",
   "pygments_lexer": "ipython3",
   "version": "3.12.3"
  }
 },
 "nbformat": 4,
 "nbformat_minor": 2
}
