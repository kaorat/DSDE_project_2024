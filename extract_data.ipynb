{
 "cells": [
  {
   "cell_type": "code",
   "execution_count": null,
   "metadata": {},
   "outputs": [],
   "source": [
    "import pandas as pd\n",
    "import json\n",
    "# file_path = r'C:\\Users\\USER\\Downloads\\Data 2018-2023\\Project\\2018\\201800001'"
   ]
  },
  {
   "cell_type": "code",
   "execution_count": null,
   "metadata": {},
   "outputs": [],
   "source": [
    "# for i in range()\n",
    "\n",
    "import json\n",
    "\n",
    "# # Load JSON data\n",
    "with open(file_path, 'r') as file:\n",
    "    data = json.load(file)\n",
    "# data = pd.read_json(file_path)\n",
    "# for key in data.keys():\n",
    "#     print(f\"Key: {key}\")\n",
    "#     print(data[key])\n",
    "#     print()\n",
    "# Function to recursively print keys and values in the JSON\n",
    "# def print_nested_json(nested_data, indent=0):\n",
    "#     spacing = \"    \" * indent  # 4-space indentation for readability\n",
    "#     if isinstance(nested_data, dict):\n",
    "#         for key, value in nested_data.items():\n",
    "#             print(f\"{spacing}Key: {key}\")\n",
    "#             print_nested_json(value, indent + 1)\n",
    "#     elif isinstance(nested_data, list):\n",
    "#         for index, item in enumerate(nested_data):\n",
    "#             print(f\"{spacing}Index {index}:\")\n",
    "#             print_nested_json(item, indent + 1)\n",
    "#     else:\n",
    "#         print(f\"{spacing}{nested_data}\")\n",
    "\n",
    "# Check and print contents within 'abstracts-retrieval-response' > 'item'\n",
    "if 'abstracts-retrieval-response' in data:\n",
    "    abstracts_data = data['abstracts-retrieval-response']\n",
    "    print(\"Contents of 'item':\")\n",
    "    print_nested_json(abstracts_data['item'])\n",
    "    print(\"Contents of 'affiliation':\")\n",
    "    print_nested_json(abstracts_data['affiliation'])\n",
    "    print(\"Contents of 'coredata':\")\n",
    "#   print_nested_json(abstracts_data['coredata'])\n",
    "    print(\"Contents of 'idxterms':\")\n",
    "#   print_nested_json(abstracts_data['idxterms'])\n",
    "    print(\"Contents of 'language':\")\n",
    "#   print_nested_json(abstracts_data['language'])\n",
    "    print(\"Contents of 'authkeywords':\")\n",
    "    print_nested_json(abstracts_data['authkeywords'])\n",
    "    print(\"Contents of 'subject-areas':\")    \n",
    "    print_nested_json(abstracts_data['subject-areas'])\n",
    "    print(\"Contents of 'authors':\")\n",
    "    print_nested_json(abstracts_data['authors'])\n",
    "else:\n",
    "    print(\"'abstracts-retrieval-response' key not found in JSON data.\")"
   ]
  },
  {
   "cell_type": "code",
   "execution_count": null,
   "metadata": {},
   "outputs": [],
   "source": [
    "# hello test"
   ]
  }
 ],
 "metadata": {
  "kernelspec": {
   "display_name": "env_chula_datasci",
   "language": "python",
   "name": "python3"
  },
  "language_info": {
   "name": "python",
   "version": "3.12.3"
  }
 },
 "nbformat": 4,
 "nbformat_minor": 2
}
