{
 "cells": [
  {
   "cell_type": "code",
   "execution_count": 8,
   "metadata": {},
   "outputs": [],
   "source": [
    "import pandas as pd\n",
    "import json\n",
    "import os\n",
    "\n",
    "subjects_all = {'code': [], 'abbrev': []}\n",
    "years = [2018, 2019, 2020, 2021, 2022, 2023]\n",
    "for y in years:\n",
    "    subjects = {'code': [], 'abbrev': []}\n",
    "    path = 'Project/' + str(y)\n",
    "    file_count = len([f for f in os.listdir(path) if os.path.isfile(os.path.join(path, f))])\n",
    "    for i in range(file_count):\n",
    "        file_path = path + '/' + str(y) + str(i).zfill(5)\n",
    "        with open(file_path, 'r') as file:\n",
    "            data = json.load(file)\n",
    "        subject_area = data['abstracts-retrieval-response']['subject-areas']['subject-area']\n",
    "        for s in subject_area:\n",
    "            code = s['@code']\n",
    "            abbrev = s['@abbrev']\n",
    "            subjects['code'].append(code)\n",
    "            subjects['abbrev'].append(abbrev)\n",
    "            subjects_all['code'].append(code)\n",
    "            subjects_all['abbrev'].append(abbrev)\n",
    "    data = pd.DataFrame(data=subjects)\n",
    "    data.drop_duplicates(inplace=True)\n",
    "    data = data.sort_values(by='code')\n",
    "    data.to_csv(str(y) + '_category.csv',index=False)\n",
    "all_data = pd.DataFrame(data=subjects_all)\n",
    "all_data.drop_duplicates(inplace=True)\n",
    "all_data = all_data.sort_values(by='code')\n",
    "all_data.to_csv('category.csv', index=False)\n",
    "\n",
    "    \n"
   ]
  },
  {
   "cell_type": "code",
   "execution_count": 9,
   "metadata": {},
   "outputs": [
    {
     "data": {
      "text/plain": [
       "code      321\n",
       "abbrev     27\n",
       "dtype: int64"
      ]
     },
     "execution_count": 9,
     "metadata": {},
     "output_type": "execute_result"
    }
   ],
   "source": [
    "category = pd.read_csv('category.csv')\n",
    "category.nunique()"
   ]
  }
 ],
 "metadata": {
  "kernelspec": {
   "display_name": "my-env",
   "language": "python",
   "name": "python3"
  },
  "language_info": {
   "codemirror_mode": {
    "name": "ipython",
    "version": 3
   },
   "file_extension": ".py",
   "mimetype": "text/x-python",
   "name": "python",
   "nbconvert_exporter": "python",
   "pygments_lexer": "ipython3",
   "version": "3.12.7"
  }
 },
 "nbformat": 4,
 "nbformat_minor": 2
}
