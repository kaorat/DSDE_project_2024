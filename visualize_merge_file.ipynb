{
 "cells": [
  {
   "cell_type": "code",
   "execution_count": 73,
   "metadata": {},
   "outputs": [],
   "source": [
    "import pandas as pd\n",
    "import os"
   ]
  },
  {
   "cell_type": "code",
   "execution_count": 74,
   "metadata": {},
   "outputs": [],
   "source": [
    "script_dir = os.getcwd()\n",
    "file_path_2018 = os.path.join(script_dir, '2018_trend_keyword.csv')\n",
    "file_path_2019 = os.path.join(script_dir, '2019_trend_keyword.csv')\n",
    "file_path_2020 = os.path.join(script_dir, '2020_trend_keyword.csv')\n",
    "file_path_2021 = os.path.join(script_dir, '2021_trend_keyword.csv')\n",
    "file_path_2022 = os.path.join(script_dir, '2022_trend_keyword.csv')\n",
    "file_path_2023 = os.path.join(script_dir, '2023_trend_keyword.csv')\n",
    "data_2018 = pd.read_csv(file_path_2018)\n",
    "data_2019 = pd.read_csv(file_path_2019)\n",
    "data_2020 = pd.read_csv(file_path_2020)\n",
    "data_2021 = pd.read_csv(file_path_2021)\n",
    "data_2022 = pd.read_csv(file_path_2022)\n",
    "data_2023 = pd.read_csv(file_path_2023)"
   ]
  },
  {
   "cell_type": "code",
   "execution_count": 75,
   "metadata": {},
   "outputs": [],
   "source": [
    "data_2018['Year'] = 2018\n",
    "data_2019['Year'] = 2019\n",
    "data_2020['Year'] = 2020\n",
    "data_2021['Year'] = 2021\n",
    "data_2022['Year'] = 2022\n",
    "data_2023['Year'] = 2023"
   ]
  },
  {
   "cell_type": "code",
   "execution_count": 76,
   "metadata": {},
   "outputs": [
    {
     "data": {
      "text/html": [
       "<div>\n",
       "<style scoped>\n",
       "    .dataframe tbody tr th:only-of-type {\n",
       "        vertical-align: middle;\n",
       "    }\n",
       "\n",
       "    .dataframe tbody tr th {\n",
       "        vertical-align: top;\n",
       "    }\n",
       "\n",
       "    .dataframe thead th {\n",
       "        text-align: right;\n",
       "    }\n",
       "</style>\n",
       "<table border=\"1\" class=\"dataframe\">\n",
       "  <thead>\n",
       "    <tr style=\"text-align: right;\">\n",
       "      <th></th>\n",
       "      <th>Title</th>\n",
       "      <th>cover_date</th>\n",
       "      <th>authkey_word</th>\n",
       "      <th>Year</th>\n",
       "    </tr>\n",
       "  </thead>\n",
       "  <tbody>\n",
       "    <tr>\n",
       "      <th>0</th>\n",
       "      <td>Parametric study of hydrogen production via so...</td>\n",
       "      <td>2018-12-31</td>\n",
       "      <td>Circulating fluidized bed</td>\n",
       "      <td>2018</td>\n",
       "    </tr>\n",
       "    <tr>\n",
       "      <th>1</th>\n",
       "      <td>Parametric study of hydrogen production via so...</td>\n",
       "      <td>2018-12-31</td>\n",
       "      <td>Computational fluid dynamics</td>\n",
       "      <td>2018</td>\n",
       "    </tr>\n",
       "    <tr>\n",
       "      <th>2</th>\n",
       "      <td>Parametric study of hydrogen production via so...</td>\n",
       "      <td>2018-12-31</td>\n",
       "      <td>Multiphase flow models</td>\n",
       "      <td>2018</td>\n",
       "    </tr>\n",
       "    <tr>\n",
       "      <th>3</th>\n",
       "      <td>Parametric study of hydrogen production via so...</td>\n",
       "      <td>2018-12-31</td>\n",
       "      <td>Riser</td>\n",
       "      <td>2018</td>\n",
       "    </tr>\n",
       "    <tr>\n",
       "      <th>4</th>\n",
       "      <td>Parametric study of hydrogen production via so...</td>\n",
       "      <td>2018-12-31</td>\n",
       "      <td>Sorption enhanced steam methane reforming</td>\n",
       "      <td>2018</td>\n",
       "    </tr>\n",
       "    <tr>\n",
       "      <th>...</th>\n",
       "      <td>...</td>\n",
       "      <td>...</td>\n",
       "      <td>...</td>\n",
       "      <td>...</td>\n",
       "    </tr>\n",
       "    <tr>\n",
       "      <th>83183</th>\n",
       "      <td>Effects of remittances on household poverty an...</td>\n",
       "      <td>2023-01-01</td>\n",
       "      <td>consumption</td>\n",
       "      <td>2023</td>\n",
       "    </tr>\n",
       "    <tr>\n",
       "      <th>83184</th>\n",
       "      <td>Effects of remittances on household poverty an...</td>\n",
       "      <td>2023-01-01</td>\n",
       "      <td>expenditure</td>\n",
       "      <td>2023</td>\n",
       "    </tr>\n",
       "    <tr>\n",
       "      <th>83185</th>\n",
       "      <td>Effects of remittances on household poverty an...</td>\n",
       "      <td>2023-01-01</td>\n",
       "      <td>Impact</td>\n",
       "      <td>2023</td>\n",
       "    </tr>\n",
       "    <tr>\n",
       "      <th>83186</th>\n",
       "      <td>Effects of remittances on household poverty an...</td>\n",
       "      <td>2023-01-01</td>\n",
       "      <td>inequality</td>\n",
       "      <td>2023</td>\n",
       "    </tr>\n",
       "    <tr>\n",
       "      <th>83187</th>\n",
       "      <td>Effects of remittances on household poverty an...</td>\n",
       "      <td>2023-01-01</td>\n",
       "      <td>remittances</td>\n",
       "      <td>2023</td>\n",
       "    </tr>\n",
       "  </tbody>\n",
       "</table>\n",
       "<p>83188 rows × 4 columns</p>\n",
       "</div>"
      ],
      "text/plain": [
       "                                                   Title  cover_date  \\\n",
       "0      Parametric study of hydrogen production via so...  2018-12-31   \n",
       "1      Parametric study of hydrogen production via so...  2018-12-31   \n",
       "2      Parametric study of hydrogen production via so...  2018-12-31   \n",
       "3      Parametric study of hydrogen production via so...  2018-12-31   \n",
       "4      Parametric study of hydrogen production via so...  2018-12-31   \n",
       "...                                                  ...         ...   \n",
       "83183  Effects of remittances on household poverty an...  2023-01-01   \n",
       "83184  Effects of remittances on household poverty an...  2023-01-01   \n",
       "83185  Effects of remittances on household poverty an...  2023-01-01   \n",
       "83186  Effects of remittances on household poverty an...  2023-01-01   \n",
       "83187  Effects of remittances on household poverty an...  2023-01-01   \n",
       "\n",
       "                                    authkey_word  Year  \n",
       "0                      Circulating fluidized bed  2018  \n",
       "1                   Computational fluid dynamics  2018  \n",
       "2                         Multiphase flow models  2018  \n",
       "3                                          Riser  2018  \n",
       "4      Sorption enhanced steam methane reforming  2018  \n",
       "...                                          ...   ...  \n",
       "83183                                consumption  2023  \n",
       "83184                                expenditure  2023  \n",
       "83185                                     Impact  2023  \n",
       "83186                                 inequality  2023  \n",
       "83187                                remittances  2023  \n",
       "\n",
       "[83188 rows x 4 columns]"
      ]
     },
     "execution_count": 76,
     "metadata": {},
     "output_type": "execute_result"
    }
   ],
   "source": [
    "# Merge 2018 and 2019\n",
    "\n",
    "data_merged = pd.concat([data_2018, data_2019], axis=0)\n",
    "\n",
    "# Merge merged and 2020\n",
    "\n",
    "data_merged = pd.concat([data_merged, data_2020], axis=0)\n",
    "\n",
    "# Merge merged and 2021\n",
    "\n",
    "data_merged = pd.concat([data_merged, data_2021], axis=0)\n",
    "\n",
    "# Merge merged and 2022\n",
    "\n",
    "data_merged = pd.concat([data_merged, data_2022], axis=0)\n",
    "\n",
    "# Merge merged and 2023\n",
    "\n",
    "data_merged = pd.concat([data_merged, data_2023], axis=0)\n",
    "\n",
    "data_merged['authkey_word'] = data_merged['authkey_word'].str.split(', ')\n",
    "data_merged = data_merged.explode('authkey_word').reset_index(drop=True)\n",
    "\n",
    "data_2018['authkey_word'] = data_2018['authkey_word'].str.split(', ')\n",
    "data_2018 = data_2018.explode('authkey_word').reset_index(drop=True)\n",
    "\n",
    "data_2019['authkey_word'] = data_2019['authkey_word'].str.split(', ')\n",
    "data_2019 = data_2019.explode('authkey_word').reset_index(drop=True)\n",
    "\n",
    "data_2020['authkey_word'] = data_2020['authkey_word'].str.split(', ')\n",
    "data_2020 = data_2020.explode('authkey_word').reset_index(drop=True)\n",
    "\n",
    "data_2021['authkey_word'] = data_2018['authkey_word'].str.split(', ')\n",
    "data_2021 = data_2021.explode('authkey_word').reset_index(drop=True)\n",
    "\n",
    "data_2022['authkey_word'] = data_2018['authkey_word'].str.split(', ')\n",
    "data_2022 = data_2022.explode('authkey_word').reset_index(drop=True)\n",
    "\n",
    "data_2023['authkey_word'] = data_2018['authkey_word'].str.split(', ')\n",
    "data_2023 = data_2023.explode('authkey_word').reset_index(drop=True)\n",
    "\n",
    "data_merged"
   ]
  },
  {
   "cell_type": "code",
   "execution_count": 77,
   "metadata": {},
   "outputs": [
    {
     "data": {
      "text/plain": [
       "Series([], Name: count, dtype: int64)"
      ]
     },
     "execution_count": 77,
     "metadata": {},
     "output_type": "execute_result"
    }
   ],
   "source": [
    "# Inspect Authkey_word value count\n",
    "# count = 0\n",
    "# key_count = data_2018['authkey_word'].value_counts().reset_index()\n",
    "# for i in key_count['count']:\n",
    "#   count += i\n",
    "\n",
    "key_count = data_2018['authkey_word'].value_counts().reset_index().sort_values(by=['count'], ascending=False)\n",
    "\n",
    "key_count['count'][key_count['authkey_word'] == 'COVID-19']"
   ]
  },
  {
   "cell_type": "code",
   "execution_count": 78,
   "metadata": {},
   "outputs": [
    {
     "data": {
      "text/plain": [
       "Series([], Name: count, dtype: int64)"
      ]
     },
     "execution_count": 78,
     "metadata": {},
     "output_type": "execute_result"
    }
   ],
   "source": [
    "# Inspect Authkey_word value count\n",
    "key_count = data_2019['authkey_word'].value_counts().reset_index().sort_values(by=['count'], ascending=False)\n",
    "\n",
    "key_count['count'][key_count['authkey_word'] == 'COVID-19']"
   ]
  },
  {
   "cell_type": "code",
   "execution_count": 79,
   "metadata": {},
   "outputs": [
    {
     "data": {
      "text/plain": [
       "2    29\n",
       "Name: count, dtype: int64"
      ]
     },
     "execution_count": 79,
     "metadata": {},
     "output_type": "execute_result"
    }
   ],
   "source": [
    "# Inspect Authkey_word value count\n",
    "key_count = data_2020['authkey_word'].value_counts().reset_index().sort_values(by=['count'], ascending=False)\n",
    "\n",
    "key_count['count'][key_count['authkey_word'] == 'COVID-19']"
   ]
  },
  {
   "cell_type": "code",
   "execution_count": 80,
   "metadata": {},
   "outputs": [
    {
     "data": {
      "text/plain": [
       "Series([], Name: count, dtype: int64)"
      ]
     },
     "execution_count": 80,
     "metadata": {},
     "output_type": "execute_result"
    }
   ],
   "source": [
    "# Inspect Authkey_word value count\n",
    "key_count = data_2021['authkey_word'].value_counts().reset_index().sort_values(by=['count'], ascending=False)\n",
    "\n",
    "\n",
    "key_count['count'][key_count['authkey_word'] == 'COVID-19']"
   ]
  },
  {
   "cell_type": "code",
   "execution_count": 81,
   "metadata": {},
   "outputs": [
    {
     "data": {
      "text/plain": [
       "Series([], Name: count, dtype: int64)"
      ]
     },
     "execution_count": 81,
     "metadata": {},
     "output_type": "execute_result"
    }
   ],
   "source": [
    "# Inspect Authkey_word value count\n",
    "key_count = data_2022['authkey_word'].value_counts().reset_index().sort_values(by=['count'], ascending=False)\n",
    "\n",
    "\n",
    "key_count['count'][key_count['authkey_word'] == 'COVID-19']"
   ]
  },
  {
   "cell_type": "code",
   "execution_count": 82,
   "metadata": {},
   "outputs": [
    {
     "data": {
      "text/plain": [
       "Series([], Name: count, dtype: int64)"
      ]
     },
     "execution_count": 82,
     "metadata": {},
     "output_type": "execute_result"
    }
   ],
   "source": [
    "# Inspect Authkey_word value count\n",
    "key_count = data_2023['authkey_word'].value_counts().reset_index().sort_values(by=['count'], ascending=False)\n",
    "\n",
    "\n",
    "key_count['count'][key_count['authkey_word'] == 'COVID-19']"
   ]
  },
  {
   "cell_type": "code",
   "execution_count": 93,
   "metadata": {},
   "outputs": [
    {
     "data": {
      "text/plain": [
       "1    108\n",
       "Name: count, dtype: int64"
      ]
     },
     "execution_count": 93,
     "metadata": {},
     "output_type": "execute_result"
    }
   ],
   "source": [
    "# Inspect Authkey_word value count\n",
    "key_count_merged = data_merged[(data_merged['Year'] == 2022)]['authkey_word'].value_counts().reset_index().sort_values(by=['count'], ascending=False)\n",
    "key_count_merged['count'][key_count_merged['authkey_word'] == 'COVID-19']"
   ]
  },
  {
   "cell_type": "code",
   "execution_count": 87,
   "metadata": {},
   "outputs": [
    {
     "data": {
      "text/plain": [
       "1    282\n",
       "Name: count, dtype: int64"
      ]
     },
     "execution_count": 87,
     "metadata": {},
     "output_type": "execute_result"
    }
   ],
   "source": [
    "# COVID-19 ( COVID-19) ( SARS-CoV-2)\n",
    "key_count_merged['count'][key_count_merged['authkey_word'] == 'COVID-19']"
   ]
  },
  {
   "cell_type": "code",
   "execution_count": 85,
   "metadata": {},
   "outputs": [],
   "source": [
    "# Export merged data to csv\n",
    "data_merged.to_csv('merged_trend_data.csv', index=False)"
   ]
  }
 ],
 "metadata": {
  "kernelspec": {
   "display_name": "myenv",
   "language": "python",
   "name": "python3"
  },
  "language_info": {
   "codemirror_mode": {
    "name": "ipython",
    "version": 3
   },
   "file_extension": ".py",
   "mimetype": "text/x-python",
   "name": "python",
   "nbconvert_exporter": "python",
   "pygments_lexer": "ipython3",
   "version": "3.12.7"
  }
 },
 "nbformat": 4,
 "nbformat_minor": 2
}
